{
 "cells": [
  {
   "cell_type": "code",
   "execution_count": 8,
   "id": "5431f15c",
   "metadata": {},
   "outputs": [],
   "source": [
    "#Necessary imports\n",
    "import streamlit as st\n",
    "import pandas as pd\n",
    "from matplotlib import pyplot as plt\n",
    "from textblob import TextBlob\n",
    "from nltk.tokenize import sent_tokenize\n",
    "import spacy\n",
    "from spacy import displacy\n",
    "from collections import Counter\n",
    "import en_core_web_sm\n",
    "nlp = en_core_web_sm.load()\n",
    "import nltk"
   ]
  },
  {
   "cell_type": "code",
   "execution_count": 2,
   "id": "7ea198c0",
   "metadata": {},
   "outputs": [
    {
     "name": "stderr",
     "output_type": "stream",
     "text": [
      "2022-06-18 08:57:10.910 \n",
      "  \u001b[33m\u001b[1mWarning:\u001b[0m to view this Streamlit app on a browser, run it with the following\n",
      "  command:\n",
      "\n",
      "    streamlit run C:\\ProgramData\\Anaconda3\\lib\\site-packages\\ipykernel_launcher.py [ARGUMENTS]\n"
     ]
    },
    {
     "data": {
      "text/plain": [
       "DeltaGenerator(_root_container=0, _provided_cursor=None, _parent=None, _block_type=None, _form_data=None)"
      ]
     },
     "execution_count": 2,
     "metadata": {},
     "output_type": "execute_result"
    }
   ],
   "source": [
    "#Headings for Web Application\n",
    "st.title(\"Natural Language Processing Web Application Example\")\n",
    "st.subheader(\"What type of NLP service would you like to use?\")"
   ]
  },
  {
   "cell_type": "code",
   "execution_count": 3,
   "id": "90a70bd7",
   "metadata": {},
   "outputs": [],
   "source": [
    "#Picking what NLP task you want to do\n",
    "option = st.selectbox('NLP Service',('Sentiment Analysis', 'Entity Extraction', 'Text Summarization')) #option is stored in this variable"
   ]
  },
  {
   "cell_type": "code",
   "execution_count": 4,
   "id": "cc4486c7",
   "metadata": {},
   "outputs": [],
   "source": [
    "#Textbox for text user is entering\n",
    "st.subheader(\"Enter the text you'd like to analyze.\")\n",
    "text = st.text_input('Enter text') #text is stored in this variable"
   ]
  },
  {
   "cell_type": "code",
   "execution_count": 5,
   "id": "e166214d",
   "metadata": {},
   "outputs": [
    {
     "data": {
      "text/plain": [
       "DeltaGenerator(_root_container=0, _provided_cursor=None, _parent=None, _block_type=None, _form_data=None)"
      ]
     },
     "execution_count": 5,
     "metadata": {},
     "output_type": "execute_result"
    }
   ],
   "source": [
    "#Display results of the NLP task\n",
    "st.header(\"Results\")"
   ]
  },
  {
   "cell_type": "code",
   "execution_count": 6,
   "id": "e094fbfc",
   "metadata": {},
   "outputs": [],
   "source": [
    "#Function to take in dictionary of entities, type of entity, and returns specific entities of specific type\n",
    "def entRecognizer(entDict, typeEnt):\n",
    "    entList = [ent for ent in entDict if entDict[ent] == typeEnt]\n",
    "    return entList"
   ]
  },
  {
   "cell_type": "code",
   "execution_count": 9,
   "id": "e3808546",
   "metadata": {},
   "outputs": [
    {
     "name": "stderr",
     "output_type": "stream",
     "text": [
      "[nltk_data] Downloading package punkt to C:\\Users\\Amit\n",
      "[nltk_data]     Chakraborty\\AppData\\Roaming\\nltk_data...\n",
      "[nltk_data]   Package punkt is already up-to-date!\n",
      "C:\\ProgramData\\Anaconda3\\lib\\site-packages\\altair\\utils\\core.py:219: UserWarning: I don't know how to infer vegalite type from 'empty'.  Defaulting to nominal.\n",
      "  warnings.warn(\n"
     ]
    }
   ],
   "source": [
    "#Sentiment Analysis\n",
    "if option == 'Sentiment Analysis':\n",
    "\n",
    "    #Creating graph for sentiment across each sentence in the text inputted\n",
    "    nltk.download('punkt')\n",
    "    sents = sent_tokenize(text)\n",
    "    entireText = TextBlob(text)\n",
    "    sentScores = []\n",
    "    for sent in sents:\n",
    "        text = TextBlob(sent)\n",
    "        score = text.sentiment[0]\n",
    "        sentScores.append(score)\n",
    "\n",
    "    #Plotting sentiment scores per sentencein line graph\n",
    "    st.line_chart(sentScores)\n",
    "\n",
    "    #Polarity and Subjectivity of the entire text inputted\n",
    "    sentimentTotal = entireText.sentiment\n",
    "    st.write(\"The sentiment of the overall text below.\")\n",
    "    st.write(sentimentTotal)\n",
    "    \n",
    "#Named Entity Recognition\n",
    "elif option == 'Entity Extraction':\n",
    "    #Getting Entity and type of Entity\n",
    "    entities = []\n",
    "    entityLabels = []\n",
    "    doc = nlp(text)\n",
    "    for ent in doc.ents:\n",
    "        entities.append(ent.text)\n",
    "        entityLabels.append(ent.label_)\n",
    "    entDict = dict(zip(entities, entityLabels)) #Creating dictionary with entity and entity types\n",
    "    \n",
    "    #Using function to create lists of entities of each type\n",
    "    entOrg = entRecognizer(entDict, \"ORG\")\n",
    "    entCardinal = entRecognizer(entDict, \"CARDINAL\")\n",
    "    entPerson = entRecognizer(entDict, \"PERSON\")\n",
    "    entDate = entRecognizer(entDict, \"DATE\")\n",
    "    entGPE = entRecognizer(entDict, \"GPE\")\n",
    "\n",
    "    #Displaying entities of each type\n",
    "    st.write(\"Organization Entities: \" + str(entOrg))\n",
    "    st.write(\"Cardinal Entities: \" + str(entCardinal))\n",
    "    st.write(\"Personal Entities: \" + str(entPerson))\n",
    "    st.write(\"Date Entities: \" + str(entDate))\n",
    "    st.write(\"GPE Entities: \" + str(entGPE))\n",
    "    \n",
    "#Text Summarization\n",
    "else:\n",
    "    from pysummarization.nlpbase.auto_abstractor import AutoAbstractor\n",
    "    from pysummarization.tokenizabledoc.simple_tokenizer import SimpleTokenizer\n",
    "    from pysummarization.abstractabledoc.top_n_rank_abstractor import TopNRankAbstractor\n",
    "\n",
    "    document = text\n",
    "    summary =\"\"\n",
    "\n",
    "    # Object of automatic summarization.\n",
    "    auto_abstractor = AutoAbstractor()\n",
    "    # Set tokenizer.\n",
    "    auto_abstractor.tokenizable_doc = SimpleTokenizer()\n",
    "    # Set delimiter for making a list of sentence.\n",
    "    auto_abstractor.delimiter_list = [\".\", \"/n\"]\n",
    "    # Object of abstracting and filtering document.\n",
    "    abstractable_doc = TopNRankAbstractor()\n",
    "    # Summarize document.\n",
    "    result_dict = auto_abstractor.summarize(document, abstractable_doc)\n",
    "    for sentence in result_dict[\"summarize_result\"]:\n",
    "        summary +=sentence\n",
    "        \n",
    "    summWords = summary\n",
    "    st.subheader(\"Summary\")\n",
    "    st.write(summWords)"
   ]
  },
  {
   "cell_type": "code",
   "execution_count": null,
   "id": "ce5e7a3e",
   "metadata": {},
   "outputs": [],
   "source": []
  }
 ],
 "metadata": {
  "kernelspec": {
   "display_name": "Python 3 (ipykernel)",
   "language": "python",
   "name": "python3"
  },
  "language_info": {
   "codemirror_mode": {
    "name": "ipython",
    "version": 3
   },
   "file_extension": ".py",
   "mimetype": "text/x-python",
   "name": "python",
   "nbconvert_exporter": "python",
   "pygments_lexer": "ipython3",
   "version": "3.9.12"
  }
 },
 "nbformat": 4,
 "nbformat_minor": 5
}
